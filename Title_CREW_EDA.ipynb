{
  "nbformat": 4,
  "nbformat_minor": 0,
  "metadata": {
    "colab": {
      "name": "Title_CREW_EDA.ipynb",
      "provenance": [],
      "collapsed_sections": []
    },
    "kernelspec": {
      "display_name": "Python 3",
      "name": "python3"
    },
    "language_info": {
      "name": "python"
    }
  },
  "cells": [
    {
      "cell_type": "code",
      "metadata": {
        "id": "NWdOh6ExXXka"
      },
      "source": [
        "#all libraries that need to be used in case miss somewhere\n",
        "\n",
        "import pandas as pd"
      ],
      "execution_count": null,
      "outputs": []
    },
    {
      "cell_type": "markdown",
      "metadata": {
        "id": "UTTMpV62iUcQ"
      },
      "source": [
        "# TITLE_CREW\n",
        "\n",
        "Dataset:\n",
        "*   `tconst`: alphanumeric unique identifier of the title\n",
        "*   `directors`: (array of nconsts) director(s) of the given title\n",
        "*   `writers`: (array of nconsts) writer(s) of the given title\n",
        "\n",
        "A **'\\N'** is used to denote a particular field is missing or null for that title/name.\n",
        "\n",
        "\n",
        "\n",
        "\n",
        "\n",
        "\n",
        "\n"
      ]
    },
    {
      "cell_type": "code",
      "metadata": {
        "colab": {
          "base_uri": "https://localhost:8080/",
          "height": 204
        },
        "id": "iC3bDV0w7ILj",
        "outputId": "68bc7167-5c76-4fbf-b3a8-608709c84616"
      },
      "source": [
        "#MAIN DIRECTORS, ONLY WITH REFERENCE TO TABLE CREW \n",
        "import pandas as pd\n",
        "\n",
        "title_crew = pd.read_csv(\"https://datasets.imdbws.com/title.crew.tsv.gz\", sep = \"\\t\")\n",
        "\n",
        "title_crew.head()\n",
        "\n",
        "#title_crew.info(verbose = True, null_counts = True) #verbose and null_counts is to show the column Non-Null Count"
      ],
      "execution_count": null,
      "outputs": [
        {
          "output_type": "execute_result",
          "data": {
            "text/html": [
              "<div>\n",
              "<style scoped>\n",
              "    .dataframe tbody tr th:only-of-type {\n",
              "        vertical-align: middle;\n",
              "    }\n",
              "\n",
              "    .dataframe tbody tr th {\n",
              "        vertical-align: top;\n",
              "    }\n",
              "\n",
              "    .dataframe thead th {\n",
              "        text-align: right;\n",
              "    }\n",
              "</style>\n",
              "<table border=\"1\" class=\"dataframe\">\n",
              "  <thead>\n",
              "    <tr style=\"text-align: right;\">\n",
              "      <th></th>\n",
              "      <th>tconst</th>\n",
              "      <th>directors</th>\n",
              "      <th>writers</th>\n",
              "    </tr>\n",
              "  </thead>\n",
              "  <tbody>\n",
              "    <tr>\n",
              "      <th>0</th>\n",
              "      <td>tt0000001</td>\n",
              "      <td>nm0005690</td>\n",
              "      <td>\\N</td>\n",
              "    </tr>\n",
              "    <tr>\n",
              "      <th>1</th>\n",
              "      <td>tt0000002</td>\n",
              "      <td>nm0721526</td>\n",
              "      <td>\\N</td>\n",
              "    </tr>\n",
              "    <tr>\n",
              "      <th>2</th>\n",
              "      <td>tt0000003</td>\n",
              "      <td>nm0721526</td>\n",
              "      <td>\\N</td>\n",
              "    </tr>\n",
              "    <tr>\n",
              "      <th>3</th>\n",
              "      <td>tt0000004</td>\n",
              "      <td>nm0721526</td>\n",
              "      <td>\\N</td>\n",
              "    </tr>\n",
              "    <tr>\n",
              "      <th>4</th>\n",
              "      <td>tt0000005</td>\n",
              "      <td>nm0005690</td>\n",
              "      <td>\\N</td>\n",
              "    </tr>\n",
              "  </tbody>\n",
              "</table>\n",
              "</div>"
            ],
            "text/plain": [
              "      tconst  directors writers\n",
              "0  tt0000001  nm0005690      \\N\n",
              "1  tt0000002  nm0721526      \\N\n",
              "2  tt0000003  nm0721526      \\N\n",
              "3  tt0000004  nm0721526      \\N\n",
              "4  tt0000005  nm0005690      \\N"
            ]
          },
          "metadata": {},
          "execution_count": 12
        }
      ]
    },
    {
      "cell_type": "code",
      "metadata": {
        "colab": {
          "base_uri": "https://localhost:8080/"
        },
        "id": "ulTzfZoDWokC",
        "outputId": "d5df6776-dbbd-4a25-dfe4-21d5c23294fd"
      },
      "source": [
        "title_crew.info(verbose = True, null_counts = True) #verbose and null_counts is to show the column Non-Null Count\n",
        "\n",
        "#### all datatypes seem CORRECT #### NO MISSING values as well ####"
      ],
      "execution_count": null,
      "outputs": [
        {
          "output_type": "stream",
          "name": "stdout",
          "text": [
            "<class 'pandas.core.frame.DataFrame'>\n",
            "RangeIndex: 8333396 entries, 0 to 8333395\n",
            "Data columns (total 3 columns):\n",
            " #   Column     Non-Null Count    Dtype \n",
            "---  ------     --------------    ----- \n",
            " 0   tconst     8333396 non-null  object\n",
            " 1   directors  8333396 non-null  object\n",
            " 2   writers    8333396 non-null  object\n",
            "dtypes: object(3)\n",
            "memory usage: 190.7+ MB\n"
          ]
        }
      ]
    },
    {
      "cell_type": "code",
      "metadata": {
        "id": "KiW9FGoMYLsg"
      },
      "source": [
        "title_crew.describe() #doesn't need to be used in this case\n",
        "\n",
        "#title_crew['directors'].mean() ## maybe to check the average number of directors by movie?!\n",
        "                                ### the same can be done to the writers?!"
      ],
      "execution_count": null,
      "outputs": []
    },
    {
      "cell_type": "code",
      "metadata": {
        "colab": {
          "base_uri": "https://localhost:8080/"
        },
        "id": "7SsD6CuvYvdy",
        "outputId": "0f6f57a2-ecaa-4dbb-fc91-c6f17f3b2427"
      },
      "source": [
        "#check for unique values\n",
        "\n",
        "print(title_crew['tconst'].unique(), '\\n')\n",
        "\n",
        "print(title_crew['directors'].unique(), '\\n')\n",
        "\n",
        "print(title_crew['writers'].unique())"
      ],
      "execution_count": null,
      "outputs": [
        {
          "output_type": "stream",
          "name": "stdout",
          "text": [
            "['tt0000001' 'tt0000002' 'tt0000003' ... 'tt9916852' 'tt9916856'\n",
            " 'tt9916880'] \n",
            "\n",
            "['nm0005690' 'nm0721526' 'nm0005690,nm0374658' ... 'nm10538612'\n",
            " 'nm10538639' 'nm10538645'] \n",
            "\n",
            "['\\\\N' 'nm0085156' 'nm0410331' ... 'nm10538639'\n",
            " 'nm6687687,nm10538642,nm9641593,nm10538643' 'nm6951431']\n"
          ]
        }
      ]
    },
    {
      "cell_type": "code",
      "metadata": {
        "colab": {
          "base_uri": "https://localhost:8080/"
        },
        "id": "ZqU3u_v4Zbgh",
        "outputId": "6c930ad7-c5b5-4807-aa22-9b71e827991e"
      },
      "source": [
        "#check value_counts() for each element\n",
        "\n",
        "print(title_crew['tconst'].value_counts(), '\\n') #all id's are single and unique\n",
        "\n",
        "print(title_crew['directors'].value_counts(), '\\n') ## a lot of '\\N'\n",
        "\n",
        "print(title_crew['writers'].value_counts()) ### a lot of '\\N'"
      ],
      "execution_count": null,
      "outputs": [
        {
          "output_type": "stream",
          "name": "stdout",
          "text": [
            "tt0635759     1\n",
            "tt2126130     1\n",
            "tt11124706    1\n",
            "tt0489082     1\n",
            "tt6879186     1\n",
            "             ..\n",
            "tt8254800     1\n",
            "tt0311174     1\n",
            "tt9259194     1\n",
            "tt0192036     1\n",
            "tt6826098     1\n",
            "Name: tconst, Length: 8333396, dtype: int64 \n",
            "\n",
            "\\N                                                      3504881\n",
            "nm0565214                                                  5968\n",
            "nm0022750                                                  5902\n",
            "nm0600353                                                  5015\n",
            "nm5727175                                                  4889\n",
            "                                                         ...   \n",
            "nm12936821,nm8864559,nm12829534,nm9552309,nm12936820          1\n",
            "nm7231120                                                     1\n",
            "nm2142064                                                     1\n",
            "nm7068623,nm7169235,nm5834325,nm4208007                       1\n",
            "nm7399463                                                     1\n",
            "Name: directors, Length: 834595, dtype: int64 \n",
            "\n",
            "\\N                                         4066163\n",
            "nm6352729                                    10926\n",
            "nm0934807                                     9467\n",
            "nm7370686                                     7174\n",
            "nm5042664                                     6342\n",
            "                                            ...   \n",
            "nm4014850                                        1\n",
            "nm0263422                                        1\n",
            "nm1586921                                        1\n",
            "nm0024589,nm0133153,nm0545527,nm0582706          1\n",
            "nm3327872,nm1600153                              1\n",
            "Name: writers, Length: 1144537, dtype: int64\n"
          ]
        }
      ]
    },
    {
      "cell_type": "code",
      "metadata": {
        "id": "YgQ5MFDS8Jhq"
      },
      "source": [
        "# change columns name 'tconst' to 'title_id'\n",
        "\n",
        "title_crew.rename(columns = {'tconst':'title_id'}, inplace = True)\n",
        "\n",
        "title_crew.head()"
      ],
      "execution_count": null,
      "outputs": []
    },
    {
      "cell_type": "code",
      "metadata": {
        "id": "wgg1JF-A9GNd"
      },
      "source": [
        "# Dataframe with missing values on directors and writers\n",
        "## Not possible to do because there is no 'NaN'. there is only '\\N' as missing values\n",
        "\n",
        "#title_crew.isna().sum()"
      ],
      "execution_count": null,
      "outputs": []
    },
    {
      "cell_type": "markdown",
      "metadata": {
        "id": "6sSott0czE5s"
      },
      "source": [
        "# **Maybe divide movies in categories by number of directors?!**\n",
        "\n",
        "**NEED TO KNOW what to do with the '\\N' values. If we replace it by NaN or not?!**\n",
        "\n"
      ]
    },
    {
      "cell_type": "markdown",
      "metadata": {
        "id": "j59M6ANeiMEF"
      },
      "source": [
        "# TITLE_PRINCIPALS\n",
        "Dataset:\n",
        "\n",
        "*   `tconst`: alphanumeric unique identifier of the title\n",
        "*   `ordering`: a number to uniquely identify rows for a given titleId\n",
        "*   `nconst`: alphanumeric unique identifier of the name/person\n",
        "*   `category`: the category of job that person was in\n",
        "*   `job`: the specific job title if applicable, else '\\N'\n",
        "*   `characters`: the name of the character played if applicable, else '\\N'\n",
        "\n",
        "A **'\\N'** is used to denote a particular field is missing or null for that title/name."
      ]
    },
    {
      "cell_type": "code",
      "metadata": {
        "colab": {
          "base_uri": "https://localhost:8080/",
          "height": 204
        },
        "id": "7CmHnWAC7nxH",
        "outputId": "dec49c5d-7381-4ea4-e0a8-789c17cdfd14"
      },
      "source": [
        "import pandas as pd\n",
        "\n",
        "# Contains the principal cast/crew for titles\n",
        "\n",
        "title_principals = pd.read_csv(\"https://datasets.imdbws.com/title.principals.tsv.gz\", sep = \"\\t\")\n",
        "\n",
        "title_principals.rename(columns = {'tconst':'title_id'}, inplace = True)\n",
        "\n",
        "title_principals.head()\n",
        "\n",
        "#title_principals.info(verbose = True, null_counts = True) #verbose and null_counts is to show the column Non-Null Count"
      ],
      "execution_count": null,
      "outputs": [
        {
          "output_type": "execute_result",
          "data": {
            "text/html": [
              "<div>\n",
              "<style scoped>\n",
              "    .dataframe tbody tr th:only-of-type {\n",
              "        vertical-align: middle;\n",
              "    }\n",
              "\n",
              "    .dataframe tbody tr th {\n",
              "        vertical-align: top;\n",
              "    }\n",
              "\n",
              "    .dataframe thead th {\n",
              "        text-align: right;\n",
              "    }\n",
              "</style>\n",
              "<table border=\"1\" class=\"dataframe\">\n",
              "  <thead>\n",
              "    <tr style=\"text-align: right;\">\n",
              "      <th></th>\n",
              "      <th>title_id</th>\n",
              "      <th>ordering</th>\n",
              "      <th>nconst</th>\n",
              "      <th>category</th>\n",
              "      <th>job</th>\n",
              "      <th>characters</th>\n",
              "    </tr>\n",
              "  </thead>\n",
              "  <tbody>\n",
              "    <tr>\n",
              "      <th>0</th>\n",
              "      <td>tt0000001</td>\n",
              "      <td>1</td>\n",
              "      <td>nm1588970</td>\n",
              "      <td>self</td>\n",
              "      <td>\\N</td>\n",
              "      <td>[\"Self\"]</td>\n",
              "    </tr>\n",
              "    <tr>\n",
              "      <th>1</th>\n",
              "      <td>tt0000001</td>\n",
              "      <td>2</td>\n",
              "      <td>nm0005690</td>\n",
              "      <td>director</td>\n",
              "      <td>\\N</td>\n",
              "      <td>\\N</td>\n",
              "    </tr>\n",
              "    <tr>\n",
              "      <th>2</th>\n",
              "      <td>tt0000001</td>\n",
              "      <td>3</td>\n",
              "      <td>nm0374658</td>\n",
              "      <td>cinematographer</td>\n",
              "      <td>director of photography</td>\n",
              "      <td>\\N</td>\n",
              "    </tr>\n",
              "    <tr>\n",
              "      <th>3</th>\n",
              "      <td>tt0000002</td>\n",
              "      <td>1</td>\n",
              "      <td>nm0721526</td>\n",
              "      <td>director</td>\n",
              "      <td>\\N</td>\n",
              "      <td>\\N</td>\n",
              "    </tr>\n",
              "    <tr>\n",
              "      <th>4</th>\n",
              "      <td>tt0000002</td>\n",
              "      <td>2</td>\n",
              "      <td>nm1335271</td>\n",
              "      <td>composer</td>\n",
              "      <td>\\N</td>\n",
              "      <td>\\N</td>\n",
              "    </tr>\n",
              "  </tbody>\n",
              "</table>\n",
              "</div>"
            ],
            "text/plain": [
              "    title_id  ordering  ...                      job characters\n",
              "0  tt0000001         1  ...                       \\N   [\"Self\"]\n",
              "1  tt0000001         2  ...                       \\N         \\N\n",
              "2  tt0000001         3  ...  director of photography         \\N\n",
              "3  tt0000002         1  ...                       \\N         \\N\n",
              "4  tt0000002         2  ...                       \\N         \\N\n",
              "\n",
              "[5 rows x 6 columns]"
            ]
          },
          "metadata": {},
          "execution_count": 2
        }
      ]
    },
    {
      "cell_type": "code",
      "metadata": {
        "colab": {
          "base_uri": "https://localhost:8080/"
        },
        "id": "Vem-Dn2oW0qM",
        "outputId": "c648042c-b529-4d47-b8d4-c54154aa51e1"
      },
      "source": [
        "title_principals.info(verbose = True, null_counts = True) #verbose and null_counts is to show the column Non-Null Count\n",
        "\n",
        "#title_principals.dtypes #can be used but the info() will give the same result\n",
        "\n",
        "#### all datatype seem correct #### NO MISSING values as well ####"
      ],
      "execution_count": null,
      "outputs": [
        {
          "output_type": "stream",
          "name": "stdout",
          "text": [
            "<class 'pandas.core.frame.DataFrame'>\n",
            "RangeIndex: 47283330 entries, 0 to 47283329\n",
            "Data columns (total 6 columns):\n",
            " #   Column      Non-Null Count     Dtype \n",
            "---  ------      --------------     ----- \n",
            " 0   tconst      47283330 non-null  object\n",
            " 1   ordering    47283330 non-null  int64 \n",
            " 2   nconst      47283330 non-null  object\n",
            " 3   category    47283330 non-null  object\n",
            " 4   job         47283330 non-null  object\n",
            " 5   characters  47283330 non-null  object\n",
            "dtypes: int64(1), object(5)\n",
            "memory usage: 2.1+ GB\n"
          ]
        }
      ]
    },
    {
      "cell_type": "code",
      "metadata": {
        "id": "qxx4KbixYI5v"
      },
      "source": [
        "title_principals.describe() #don't need to be used"
      ],
      "execution_count": null,
      "outputs": []
    },
    {
      "cell_type": "code",
      "metadata": {
        "colab": {
          "base_uri": "https://localhost:8080/"
        },
        "id": "JmMk105JkDZj",
        "outputId": "695d8f81-d729-49da-e0fb-cc1fd4e46d65"
      },
      "source": [
        "#check for unique values\n",
        "\n",
        "print(title_principals['tconst'].unique(), '\\n')\n",
        "\n",
        "print(title_principals['ordering'].unique(), '\\n') #maximum ordering is 10\n",
        "\n",
        "print(title_principals['nconst'].unique(), '\\n')\n",
        "\n",
        "print(title_principals['category'].unique(), '\\n') #what is 'self'? maybe a documentary about himself?\n",
        "\n",
        "print(title_principals['job'].unique(), '\\n') ## '\\\\N' and some strange data like: 'short story \"Your Iron Lady\"' or 'original screenplay \"Teorie tygra\"'\n",
        "\n",
        "print(title_principals['characters'].unique()) ### what is 'self'? maybe a documentary about himself?\n",
        "                                              #### presence of \"\\\\N\""
      ],
      "execution_count": null,
      "outputs": [
        {
          "output_type": "stream",
          "name": "stdout",
          "text": [
            "['tt0000001' 'tt0000002' 'tt0000003' ... 'tt9916852' 'tt9916856'\n",
            " 'tt9916880'] \n",
            "\n",
            "[ 1  2  3  4  5  6  7  8 10  9] \n",
            "\n",
            "['nm1588970' 'nm0005690' 'nm0374658' ... 'nm10538645' 'nm6951431'\n",
            " 'nm10538653'] \n",
            "\n",
            "['self' 'director' 'cinematographer' 'composer' 'producer' 'editor'\n",
            " 'actor' 'actress' 'writer' 'production_designer' 'archive_footage'\n",
            " 'archive_sound'] \n",
            "\n",
            "['\\\\N' 'director of photography' 'producer' ...\n",
            " \"based upon 'Star Trek Enterprise' created by\"\n",
            " 'short story \"Your Iron Lady\"' 'original screenplay \"Teorie tygra\"'] \n",
            "\n",
            "['[\"Self\"]' '\\\\N' '[\"Blacksmith\"]' ... '[\"Tomeka\"]' '[\"Alasia\"]'\n",
            " '[\"Judah Harris\"]']\n"
          ]
        }
      ]
    },
    {
      "cell_type": "code",
      "metadata": {
        "colab": {
          "base_uri": "https://localhost:8080/"
        },
        "id": "hW840lO5kxdx",
        "outputId": "2a3bf0dc-4b48-4e4e-eda0-61f3e52d2d4e"
      },
      "source": [
        "#check value_count of each element\n",
        "\n",
        "print(title_principals['tconst'].value_counts(), '\\n') # some id's repeat but the maximum is 10 ## these ones might can be join together\n",
        "\n",
        "print(title_principals['ordering'].value_counts(), '\\n')\n",
        "\n",
        "print(title_principals['nconst'].value_counts(), '\\n')\n",
        "\n",
        "print(title_principals['category'].value_counts(), '\\n') #presence of 'self'\n",
        "\n",
        "print(title_principals['job'].value_counts(), '\\n') ## a lot of '\\N' and 'based on', 'book blabla' or even short story\n",
        "\n",
        "print(title_principals['characters'].value_counts()) ### a lot of '\\N', different 'SELF' and \n",
        "                          #other names (probably the name of character in movie)"
      ],
      "execution_count": null,
      "outputs": [
        {
          "output_type": "stream",
          "name": "stdout",
          "text": [
            "tt9831086     10\n",
            "tt7684110     10\n",
            "tt0227887     10\n",
            "tt11355586    10\n",
            "tt1053644     10\n",
            "              ..\n",
            "tt13527510     1\n",
            "tt15016808     1\n",
            "tt10649078     1\n",
            "tt9758752      1\n",
            "tt1548459      1\n",
            "Name: tconst, Length: 7569644, dtype: int64 \n",
            "\n",
            "1     7569644\n",
            "2     6623974\n",
            "3     5877811\n",
            "4     5298732\n",
            "5     4777887\n",
            "6     4280053\n",
            "7     3841309\n",
            "8     3430157\n",
            "9     2998719\n",
            "10    2585044\n",
            "Name: ordering, dtype: int64 \n",
            "\n",
            "nm0438506     15191\n",
            "nm0914844     14707\n",
            "nm6352729     12551\n",
            "nm1966600     12453\n",
            "nm0251041     12286\n",
            "              ...  \n",
            "nm1653316         1\n",
            "nm9901348         1\n",
            "nm8175187         1\n",
            "nm10396296        1\n",
            "nm9415924         1\n",
            "Name: nconst, Length: 4558812, dtype: int64 \n",
            "\n",
            "actor                  10667057\n",
            "self                    8225215\n",
            "actress                 8099043\n",
            "writer                  6304634\n",
            "director                5477038\n",
            "producer                2981424\n",
            "cinematographer         1662531\n",
            "composer                1660775\n",
            "editor                  1574704\n",
            "production_designer      332834\n",
            "archive_footage          295301\n",
            "archive_sound              2774\n",
            "Name: category, dtype: int64 \n",
            "\n",
            "\\N                                                               39662327\n",
            "producer                                                          2925774\n",
            "writer                                                             867931\n",
            "creator                                                            472579\n",
            "written by                                                         438052\n",
            "                                                                   ...   \n",
            "short story \"Il libro è chiuso\"                                         1\n",
            "book \"E=mc²: A Biography of the World's Most Famous Equation\"           1\n",
            "essay Why Is America What It Is?                                        1\n",
            "based on the 1981 game by                                               1\n",
            "creator: \"Blondie\"                                                      1\n",
            "Name: job, Length: 36404, dtype: int64 \n",
            "\n",
            "\\N                                                              23881833\n",
            "[\"Self\"]                                                         3518390\n",
            "[\"Self - Host\"]                                                  1409620\n",
            "[\"Self - Guest\"]                                                  266394\n",
            "[\"Self - Presenter\"]                                              241847\n",
            "                                                                  ...   \n",
            "[\"Father Marc\"]                                                        1\n",
            "[\"Sofia Walkovski Hebb\",\"Sofia Walkovski\",\"Sofia Walkovska\"]           1\n",
            "[\"Lord Quentin Tearaway\"]                                              1\n",
            "[\"Jens\",\"Volker\"]                                                      1\n",
            "[\"Kingston Ford - the City Slicker\"]                                   1\n",
            "Name: characters, Length: 2548483, dtype: int64\n"
          ]
        }
      ]
    },
    {
      "cell_type": "code",
      "metadata": {
        "colab": {
          "base_uri": "https://localhost:8080/",
          "height": 204
        },
        "id": "IFVlzVh25D5S",
        "outputId": "5d45db05-e988-4f2c-a15e-138f6f3cf683"
      },
      "source": [
        "# change columns name 'tconst' to 'title_id'\n",
        "\n",
        "title_principals.rename(columns = {'tconst':'title_id'}, inplace = True)\n",
        "\n",
        "title_principals.head()"
      ],
      "execution_count": null,
      "outputs": [
        {
          "output_type": "execute_result",
          "data": {
            "text/html": [
              "<div>\n",
              "<style scoped>\n",
              "    .dataframe tbody tr th:only-of-type {\n",
              "        vertical-align: middle;\n",
              "    }\n",
              "\n",
              "    .dataframe tbody tr th {\n",
              "        vertical-align: top;\n",
              "    }\n",
              "\n",
              "    .dataframe thead th {\n",
              "        text-align: right;\n",
              "    }\n",
              "</style>\n",
              "<table border=\"1\" class=\"dataframe\">\n",
              "  <thead>\n",
              "    <tr style=\"text-align: right;\">\n",
              "      <th></th>\n",
              "      <th>title_id</th>\n",
              "      <th>ordering</th>\n",
              "      <th>nconst</th>\n",
              "      <th>category</th>\n",
              "      <th>job</th>\n",
              "      <th>characters</th>\n",
              "    </tr>\n",
              "  </thead>\n",
              "  <tbody>\n",
              "    <tr>\n",
              "      <th>0</th>\n",
              "      <td>tt0000001</td>\n",
              "      <td>1</td>\n",
              "      <td>nm1588970</td>\n",
              "      <td>self</td>\n",
              "      <td>\\N</td>\n",
              "      <td>[\"Self\"]</td>\n",
              "    </tr>\n",
              "    <tr>\n",
              "      <th>1</th>\n",
              "      <td>tt0000001</td>\n",
              "      <td>2</td>\n",
              "      <td>nm0005690</td>\n",
              "      <td>director</td>\n",
              "      <td>\\N</td>\n",
              "      <td>\\N</td>\n",
              "    </tr>\n",
              "    <tr>\n",
              "      <th>2</th>\n",
              "      <td>tt0000001</td>\n",
              "      <td>3</td>\n",
              "      <td>nm0374658</td>\n",
              "      <td>cinematographer</td>\n",
              "      <td>director of photography</td>\n",
              "      <td>\\N</td>\n",
              "    </tr>\n",
              "    <tr>\n",
              "      <th>3</th>\n",
              "      <td>tt0000002</td>\n",
              "      <td>1</td>\n",
              "      <td>nm0721526</td>\n",
              "      <td>director</td>\n",
              "      <td>\\N</td>\n",
              "      <td>\\N</td>\n",
              "    </tr>\n",
              "    <tr>\n",
              "      <th>4</th>\n",
              "      <td>tt0000002</td>\n",
              "      <td>2</td>\n",
              "      <td>nm1335271</td>\n",
              "      <td>composer</td>\n",
              "      <td>\\N</td>\n",
              "      <td>\\N</td>\n",
              "    </tr>\n",
              "  </tbody>\n",
              "</table>\n",
              "</div>"
            ],
            "text/plain": [
              "    title_id  ordering  ...                      job characters\n",
              "0  tt0000001         1  ...                       \\N   [\"Self\"]\n",
              "1  tt0000001         2  ...                       \\N         \\N\n",
              "2  tt0000001         3  ...  director of photography         \\N\n",
              "3  tt0000002         1  ...                       \\N         \\N\n",
              "4  tt0000002         2  ...                       \\N         \\N\n",
              "\n",
              "[5 rows x 6 columns]"
            ]
          },
          "metadata": {},
          "execution_count": 9
        }
      ]
    },
    {
      "cell_type": "code",
      "metadata": {
        "colab": {
          "base_uri": "https://localhost:8080/"
        },
        "id": "IY20f76ggvkw",
        "outputId": "857039ed-f5f0-4baa-934d-aca6ed58608a"
      },
      "source": [
        "#duplicates on title_id column\n",
        "print(title_principals.title_id.duplicated(),'\\n')\n",
        "\n",
        "#count duplicates on a column\n",
        "title_principals.title_id.duplicated().sum()"
      ],
      "execution_count": null,
      "outputs": [
        {
          "output_type": "stream",
          "name": "stdout",
          "text": [
            "0           False\n",
            "1            True\n",
            "2            True\n",
            "3           False\n",
            "4            True\n",
            "            ...  \n",
            "47440659     True\n",
            "47440660     True\n",
            "47440661     True\n",
            "47440662     True\n",
            "47440663     True\n",
            "Name: title_id, Length: 47440664, dtype: bool \n",
            "\n"
          ]
        },
        {
          "output_type": "execute_result",
          "data": {
            "text/plain": [
              "39845366"
            ]
          },
          "metadata": {},
          "execution_count": 6
        }
      ]
    },
    {
      "cell_type": "markdown",
      "metadata": {
        "id": "91CR2ruBx2kA"
      },
      "source": [
        "nconst - maybe join all 1's in a category call 'Others'\n",
        "\n",
        "job - join all the elements that aren't real jobs (producer, writer, etc...) and create new category called 'Others jobs'\n",
        "\n",
        "character - maybe join all SELF in a big category called 'SELF' or join the small categories in on category called 'Other_characters'"
      ]
    },
    {
      "cell_type": "code",
      "metadata": {
        "id": "o9XZZT1NNmf4"
      },
      "source": [
        "#replace '\\N' for \n",
        "\n",
        "#df['column name'] = df['column name'].str.replace('old character','new character')\n",
        "\n",
        "#df = df.replace('old character','new character', regex=True)\n",
        "\n",
        "## to replace '-1' value on the '\\\\N'\n",
        "#episodes[\"seasonNumber\"] = episodes.seasonNumber.apply(lambda item: \"-1\" if item == \"\\\\N\" else item)\n",
        "\n",
        "title_principals.head\n",
        "\n"
      ],
      "execution_count": null,
      "outputs": []
    },
    {
      "cell_type": "markdown",
      "metadata": {
        "id": "5NELIq6ygpb0"
      },
      "source": [
        "# Questions from the project that might can answer"
      ]
    },
    {
      "cell_type": "code",
      "metadata": {
        "id": "vAmZ4_MYg1Qo"
      },
      "source": [
        "#Which actors are the most present? At what period?\n",
        "\n"
      ],
      "execution_count": null,
      "outputs": []
    },
    {
      "cell_type": "code",
      "metadata": {
        "id": "W9EIUQqRhCrV"
      },
      "source": [
        "#Are the actors in the tv series the same as the films?"
      ],
      "execution_count": null,
      "outputs": []
    }
  ]
}